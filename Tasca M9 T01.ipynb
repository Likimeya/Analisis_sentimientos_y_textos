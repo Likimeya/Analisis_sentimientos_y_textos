{
 "cells": [
  {
   "attachments": {},
   "cell_type": "markdown",
   "metadata": {},
   "source": [
    "## Exercici 1\n",
    "**Agafa un text en anglès que vulguis, i calcula'n la freqüència de les paraules.**"
   ]
  },
  {
   "cell_type": "code",
   "execution_count": 27,
   "metadata": {},
   "outputs": [],
   "source": [
    "import pandas as pd\n",
    "import nltk\n",
    "from nltk.sentiment.vader import SentimentIntensityAnalyzer\n",
    "from nltk.corpus import stopwords\n",
    "from nltk.stem import WordNetLemmatizer\n",
    "\n",
    "from nltk.corpus import stopwords\n",
    "from nltk.tokenize import word_tokenize\n",
    "from nltk.corpus import stopwords"
   ]
  },
  {
   "cell_type": "code",
   "execution_count": 8,
   "metadata": {},
   "outputs": [
    {
     "name": "stderr",
     "output_type": "stream",
     "text": [
      "[nltk_data] Downloading package punkt to\n",
      "[nltk_data]     C:\\Users\\TAIDA\\AppData\\Roaming\\nltk_data...\n",
      "[nltk_data]   Unzipping tokenizers\\punkt.zip.\n"
     ]
    },
    {
     "data": {
      "text/plain": [
       "True"
      ]
     },
     "execution_count": 8,
     "metadata": {},
     "output_type": "execute_result"
    }
   ],
   "source": [
    "import nltk\n",
    "nltk.download('punkt')"
   ]
  },
  {
   "cell_type": "code",
   "execution_count": 18,
   "metadata": {},
   "outputs": [],
   "source": [
    "text = 'Long long time ago, in the age of gods and heroes, three horrible sisters lived in the region of Atlas who were known as Gorgons. The most terrible of the three was called Medusa. From Medusas head, instead of hair, living snakes came out. And when Medusa saw the face of a man, dog or living being, the man, the dog and the living being were immediately turned into statues of stone. During years, a lot of brave and well armed heroes had come to the region of Atlas to kill Medusa. None could kill her. Warriors and warriors were seen in all parts in different attitudes, but motionless and stiff. Then Perseus, son of Jupiter, came. Perseus knew how dangerous were Medusa?s eyes but he was very well prepared. He had a curved sword a present from god Mercury. He had a very hard shield made out of bronze and as plain as a mirror. And he had also wings which flied each time that he put them in his hills.He arrived flying. But instead of throwing himself against Medusa, he remained far only worrying about not looking her to the face, not seeing her eyes under no circumstances. And as it was necessary to spy her all the time, he used the bronze shield as a mirror to watch all that she was doing.Medusa was going from one place to another, making efforts to scare Perseus. She cried horrible things and the snakes of her head where moving and whistling furiously. But she never got that Perseus watched her directly.Tired, she fell asleep. Her terrible eyes closed and little by little, her snakes also fell asleep. Then Perseus came without making noise and cut her head off with just one cut.During all his life, he kept Medusa?s head which he used many times to turn his enemies into stone.'\n"
   ]
  },
  {
   "cell_type": "code",
   "execution_count": 20,
   "metadata": {},
   "outputs": [
    {
     "name": "stdout",
     "output_type": "stream",
     "text": [
      "['Long', 'long', 'time', 'ago', ',', 'in', 'the', 'age', 'of', 'gods', 'and', 'heroes', ',', 'three', 'horrible', 'sisters', 'lived', 'in', 'the', 'region', 'of', 'Atlas', 'who', 'were', 'known', 'as', 'Gorgons', '.', 'The', 'most', 'terrible', 'of', 'the', 'three', 'was', 'called', 'Medusa', '.', 'From', 'Medusas', 'head', ',', 'instead', 'of', 'hair', ',', 'living', 'snakes', 'came', 'out', '.', 'And', 'when', 'Medusa', 'saw', 'the', 'face', 'of', 'a', 'man', ',', 'dog', 'or', 'living', 'being', ',', 'the', 'man', ',', 'the', 'dog', 'and', 'the', 'living', 'being', 'were', 'immediately', 'turned', 'into', 'statues', 'of', 'stone', '.', 'During', 'years', ',', 'a', 'lot', 'of', 'brave', 'and', 'well', 'armed', 'heroes', 'had', 'come', 'to', 'the', 'region', 'of', 'Atlas', 'to', 'kill', 'Medusa', '.', 'None', 'could', 'kill', 'her', '.', 'Warriors', 'and', 'warriors', 'were', 'seen', 'in', 'all', 'parts', 'in', 'different', 'attitudes', ',', 'but', 'motionless', 'and', 'stiff', '.', 'Then', 'Perseus', ',', 'son', 'of', 'Jupiter', ',', 'came', '.', 'Perseus', 'knew', 'how', 'dangerous', 'were', 'Medusa', '?', 's', 'eyes', 'but', 'he', 'was', 'very', 'well', 'prepared', '.', 'He', 'had', 'a', 'curved', 'sword', 'a', 'present', 'from', 'god', 'Mercury', '.', 'He', 'had', 'a', 'very', 'hard', 'shield', 'made', 'out', 'of', 'bronze', 'and', 'as', 'plain', 'as', 'a', 'mirror', '.', 'And', 'he', 'had', 'also', 'wings', 'which', 'flied', 'each', 'time', 'that', 'he', 'put', 'them', 'in', 'his', 'hills.He', 'arrived', 'flying', '.', 'But', 'instead', 'of', 'throwing', 'himself', 'against', 'Medusa', ',', 'he', 'remained', 'far', 'only', 'worrying', 'about', 'not', 'looking', 'her', 'to', 'the', 'face', ',', 'not', 'seeing', 'her', 'eyes', 'under', 'no', 'circumstances', '.', 'And', 'as', 'it', 'was', 'necessary', 'to', 'spy', 'her', 'all', 'the', 'time', ',', 'he', 'used', 'the', 'bronze', 'shield', 'as', 'a', 'mirror', 'to', 'watch', 'all', 'that', 'she', 'was', 'doing.Medusa', 'was', 'going', 'from', 'one', 'place', 'to', 'another', ',', 'making', 'efforts', 'to', 'scare', 'Perseus', '.', 'She', 'cried', 'horrible', 'things', 'and', 'the', 'snakes', 'of', 'her', 'head', 'where', 'moving', 'and', 'whistling', 'furiously', '.', 'But', 'she', 'never', 'got', 'that', 'Perseus', 'watched', 'her', 'directly.Tired', ',', 'she', 'fell', 'asleep', '.', 'Her', 'terrible', 'eyes', 'closed', 'and', 'little', 'by', 'little', ',', 'her', 'snakes', 'also', 'fell', 'asleep', '.', 'Then', 'Perseus', 'came', 'without', 'making', 'noise', 'and', 'cut', 'her', 'head', 'off', 'with', 'just', 'one', 'cut.During', 'all', 'his', 'life', ',', 'he', 'kept', 'Medusa', '?', 's', 'head', 'which', 'he', 'used', 'many', 'times', 'to', 'turn', 'his', 'enemies', 'into', 'stone', '.']\n"
     ]
    }
   ],
   "source": [
    "tokenized_text=word_tokenize(text)\n",
    "print(tokenized_text)"
   ]
  },
  {
   "cell_type": "code",
   "execution_count": 21,
   "metadata": {},
   "outputs": [
    {
     "name": "stdout",
     "output_type": "stream",
     "text": [
      "<FreqDist with 173 samples and 351 outcomes>\n"
     ]
    }
   ],
   "source": [
    "from nltk.probability import FreqDist\n",
    "fdist = FreqDist(tokenized_text)\n",
    "print(fdist)"
   ]
  },
  {
   "cell_type": "code",
   "execution_count": 22,
   "metadata": {},
   "outputs": [
    {
     "data": {
      "text/plain": [
       "[(',', 18), ('.', 18), ('the', 12), ('of', 12), ('and', 10), ('to', 8)]"
      ]
     },
     "execution_count": 22,
     "metadata": {},
     "output_type": "execute_result"
    }
   ],
   "source": [
    "# vemos cuáles son las palabras más frecuentes\n",
    "fdist.most_common(6)"
   ]
  },
  {
   "cell_type": "code",
   "execution_count": 23,
   "metadata": {},
   "outputs": [
    {
     "data": {
      "image/png": "[encoded data removed]",
      "text/plain": [
       "<Figure size 640x480 with 1 Axes>"
      ]
     },
     "metadata": {},
     "output_type": "display_data"
    },
    {
     "data": {
      "application/javascript": "\n        if (window._pyforest_update_imports_cell) { window._pyforest_update_imports_cell('import matplotlib.pyplot as plt'); }\n    ",
      "text/plain": [
       "<IPython.core.display.Javascript object>"
      ]
     },
     "metadata": {},
     "output_type": "display_data"
    }
   ],
   "source": [
    "# reflejamos en una gráfica la frecuencia\n",
    "fdist.plot(30,cumulative=False)\n",
    "plt.show()"
   ]
  },
  {
   "attachments": {},
   "cell_type": "markdown",
   "metadata": {},
   "source": [
    "## Exercici 2\n",
    "**Treu les stopwords i realitza stemming al teu conjunt de dades.**"
   ]
  },
  {
   "cell_type": "code",
   "execution_count": 25,
   "metadata": {},
   "outputs": [
    {
     "name": "stdout",
     "output_type": "stream",
     "text": [
      "Número de tokens en nuestro texto antes de limpiar signos de puntuación:  351\n",
      "Número de tokens en nuestro texto después de limpiar signos de puntuación:  313\n"
     ]
    }
   ],
   "source": [
    "import re\n",
    "\n",
    "print('Número de tokens en nuestro texto antes de limpiar signos de puntuación: ',len(tokenized_text))\n",
    "\n",
    "tokenized_text = [re.sub(\"[^-9A-Za-z ]\", \"\" , w) for w in tokenized_text]\n",
    "\n",
    "while '' in tokenized_text:\n",
    "    tokenized_text.remove('')\n",
    "\n",
    "print('Número de tokens en nuestro texto después de limpiar signos de puntuación: ',len(tokenized_text))"
   ]
  },
  {
   "cell_type": "code",
   "execution_count": 29,
   "metadata": {},
   "outputs": [
    {
     "name": "stderr",
     "output_type": "stream",
     "text": [
      "[nltk_data] Downloading package stopwords to\n",
      "[nltk_data]     C:\\Users\\TAIDA\\AppData\\Roaming\\nltk_data...\n",
      "[nltk_data]   Unzipping corpora\\stopwords.zip.\n"
     ]
    },
    {
     "data": {
      "text/plain": [
       "True"
      ]
     },
     "execution_count": 29,
     "metadata": {},
     "output_type": "execute_result"
    }
   ],
   "source": [
    "import nltk\n",
    "nltk.download('stopwords')"
   ]
  },
  {
   "cell_type": "code",
   "execution_count": 30,
   "metadata": {},
   "outputs": [
    {
     "name": "stdout",
     "output_type": "stream",
     "text": [
      "{'haven', \"wasn't\", 'between', 'didn', 'myself', 'down', 'hers', 'ours', \"couldn't\", 'we', 'couldn', \"should've\", 'because', 'has', 'does', 'should', 'not', 'after', 'o', \"mightn't\", 't', 'ourselves', 'these', 'than', 'other', 'have', \"didn't\", 'needn', 'more', 'herself', \"don't\", 'did', 'from', 'ma', 'wasn', 'under', 'where', 'of', 'yourself', \"shouldn't\", 'mustn', \"that'll\", 'them', 'to', 'there', 'but', 'here', \"weren't\", 'shouldn', 'wouldn', 'out', 'your', 'itself', \"you're\", 'on', 'then', 'all', 'why', \"won't\", 'until', 'yourselves', 'by', 'its', 'who', \"she's\", 'at', 'over', 'mightn', 'into', 'aren', 'hadn', \"it's\", 'were', 'and', 'own', 'no', 'shan', 'me', 'such', \"doesn't\", \"wouldn't\", 'below', 'if', \"shan't\", 'weren', 'my', 'now', 'a', 'you', \"needn't\", 'themselves', 'with', 'any', 'him', \"hasn't\", 'i', 'whom', 'his', 'd', 'they', 'some', 'when', 'm', 've', 'above', 'up', 'yours', 'do', 'before', \"haven't\", 'those', 'during', 'in', \"isn't\", 'their', 'being', 'what', 'doesn', 'each', 'both', 're', 'further', 'himself', 's', 'been', \"aren't\", 'which', 'be', 'most', \"you'll\", 'how', 'don', 'this', 'having', 'same', 'or', 'ain', 'about', \"you've\", 'once', 'an', 'very', 'again', 'isn', 'he', 'that', 'will', 'through', 'against', \"you'd\", 'just', 'theirs', 'are', 'doing', 'was', 'off', 'won', 'our', 'it', 'she', 'so', 'as', 'can', 'the', \"hadn't\", 'her', 'while', 'for', 'few', 'too', 'y', 'had', 'is', 'nor', 'only', 'hasn', \"mustn't\", 'am', 'll'}\n"
     ]
    }
   ],
   "source": [
    "\n",
    "# obtenemos la lista de Stopwords de un módulo de la librería nltk, hacemos un set con ellas\n",
    "stop_words=set(stopwords.words(\"english\"))\n",
    "print(stop_words)"
   ]
  },
  {
   "cell_type": "code",
   "execution_count": 31,
   "metadata": {},
   "outputs": [
    {
     "name": "stdout",
     "output_type": "stream",
     "text": [
      "Tokenized Sentence: ['Long', 'long', 'time', 'ago', 'in', 'the', 'age', 'of', 'gods', 'and', 'heroes', 'three', 'horrible', 'sisters', 'lived', 'in', 'the', 'region', 'of', 'Atlas', 'who', 'were', 'known', 'as', 'Gorgons', 'The', 'most', 'terrible', 'of', 'the', 'three', 'was', 'called', 'Medusa', 'From', 'Medusas', 'head', 'instead', 'of', 'hair', 'living', 'snakes', 'came', 'out', 'And', 'when', 'Medusa', 'saw', 'the', 'face', 'of', 'a', 'man', 'dog', 'or', 'living', 'being', 'the', 'man', 'the', 'dog', 'and', 'the', 'living', 'being', 'were', 'immediately', 'turned', 'into', 'statues', 'of', 'stone', 'During', 'years', 'a', 'lot', 'of', 'brave', 'and', 'well', 'armed', 'heroes', 'had', 'come', 'to', 'the', 'region', 'of', 'Atlas', 'to', 'kill', 'Medusa', 'None', 'could', 'kill', 'her', 'Warriors', 'and', 'warriors', 'were', 'seen', 'in', 'all', 'parts', 'in', 'different', 'attitudes', 'but', 'motionless', 'and', 'stiff', 'Then', 'Perseus', 'son', 'of', 'Jupiter', 'came', 'Perseus', 'knew', 'how', 'dangerous', 'were', 'Medusa', 's', 'eyes', 'but', 'he', 'was', 'very', 'well', 'prepared', 'He', 'had', 'a', 'curved', 'sword', 'a', 'present', 'from', 'god', 'Mercury', 'He', 'had', 'a', 'very', 'hard', 'shield', 'made', 'out', 'of', 'bronze', 'and', 'as', 'plain', 'as', 'a', 'mirror', 'And', 'he', 'had', 'also', 'wings', 'which', 'flied', 'each', 'time', 'that', 'he', 'put', 'them', 'in', 'his', 'hillsHe', 'arrived', 'flying', 'But', 'instead', 'of', 'throwing', 'himself', 'against', 'Medusa', 'he', 'remained', 'far', 'only', 'worrying', 'about', 'not', 'looking', 'her', 'to', 'the', 'face', 'not', 'seeing', 'her', 'eyes', 'under', 'no', 'circumstances', 'And', 'as', 'it', 'was', 'necessary', 'to', 'spy', 'her', 'all', 'the', 'time', 'he', 'used', 'the', 'bronze', 'shield', 'as', 'a', 'mirror', 'to', 'watch', 'all', 'that', 'she', 'was', 'doingMedusa', 'was', 'going', 'from', 'one', 'place', 'to', 'another', 'making', 'efforts', 'to', 'scare', 'Perseus', 'She', 'cried', 'horrible', 'things', 'and', 'the', 'snakes', 'of', 'her', 'head', 'where', 'moving', 'and', 'whistling', 'furiously', 'But', 'she', 'never', 'got', 'that', 'Perseus', 'watched', 'her', 'directlyTired', 'she', 'fell', 'asleep', 'Her', 'terrible', 'eyes', 'closed', 'and', 'little', 'by', 'little', 'her', 'snakes', 'also', 'fell', 'asleep', 'Then', 'Perseus', 'came', 'without', 'making', 'noise', 'and', 'cut', 'her', 'head', 'off', 'with', 'just', 'one', 'cutDuring', 'all', 'his', 'life', 'he', 'kept', 'Medusa', 's', 'head', 'which', 'he', 'used', 'many', 'times', 'to', 'turn', 'his', 'enemies', 'into', 'stone']\n",
      "\n",
      "Filterd Sentence: ['Long', 'long', 'time', 'ago', 'age', 'gods', 'heroes', 'three', 'horrible', 'sisters', 'lived', 'region', 'Atlas', 'known', 'Gorgons', 'The', 'terrible', 'three', 'called', 'Medusa', 'From', 'Medusas', 'head', 'instead', 'hair', 'living', 'snakes', 'came', 'And', 'Medusa', 'saw', 'face', 'man', 'dog', 'living', 'man', 'dog', 'living', 'immediately', 'turned', 'statues', 'stone', 'During', 'years', 'lot', 'brave', 'well', 'armed', 'heroes', 'come', 'region', 'Atlas', 'kill', 'Medusa', 'None', 'could', 'kill', 'Warriors', 'warriors', 'seen', 'parts', 'different', 'attitudes', 'motionless', 'stiff', 'Then', 'Perseus', 'son', 'Jupiter', 'came', 'Perseus', 'knew', 'dangerous', 'Medusa', 'eyes', 'well', 'prepared', 'He', 'curved', 'sword', 'present', 'god', 'Mercury', 'He', 'hard', 'shield', 'made', 'bronze', 'plain', 'mirror', 'And', 'also', 'wings', 'flied', 'time', 'put', 'hillsHe', 'arrived', 'flying', 'But', 'instead', 'throwing', 'Medusa', 'remained', 'far', 'worrying', 'looking', 'face', 'seeing', 'eyes', 'circumstances', 'And', 'necessary', 'spy', 'time', 'used', 'bronze', 'shield', 'mirror', 'watch', 'doingMedusa', 'going', 'one', 'place', 'another', 'making', 'efforts', 'scare', 'Perseus', 'She', 'cried', 'horrible', 'things', 'snakes', 'head', 'moving', 'whistling', 'furiously', 'But', 'never', 'got', 'Perseus', 'watched', 'directlyTired', 'fell', 'asleep', 'Her', 'terrible', 'eyes', 'closed', 'little', 'little', 'snakes', 'also', 'fell', 'asleep', 'Then', 'Perseus', 'came', 'without', 'making', 'noise', 'cut', 'head', 'one', 'cutDuring', 'life', 'kept', 'Medusa', 'head', 'used', 'many', 'times', 'turn', 'enemies', 'stone']\n"
     ]
    }
   ],
   "source": [
    "# filtramos nuestros tokens\n",
    "filtered_text=[]\n",
    "for word in tokenized_text:\n",
    "    if word not in stop_words:\n",
    "        filtered_text.append(word)\n",
    "print(\"Tokenized Sentence:\",tokenized_text)\n",
    "print('')\n",
    "print(\"Filterd Sentence:\",filtered_text)"
   ]
  },
  {
   "cell_type": "code",
   "execution_count": 32,
   "metadata": {},
   "outputs": [
    {
     "name": "stdout",
     "output_type": "stream",
     "text": [
      "Filtered Sentence: ['Long', 'long', 'time', 'ago', 'age', 'gods', 'heroes', 'three', 'horrible', 'sisters', 'lived', 'region', 'Atlas', 'known', 'Gorgons', 'The', 'terrible', 'three', 'called', 'Medusa', 'From', 'Medusas', 'head', 'instead', 'hair', 'living', 'snakes', 'came', 'And', 'Medusa', 'saw', 'face', 'man', 'dog', 'living', 'man', 'dog', 'living', 'immediately', 'turned', 'statues', 'stone', 'During', 'years', 'lot', 'brave', 'well', 'armed', 'heroes', 'come', 'region', 'Atlas', 'kill', 'Medusa', 'None', 'could', 'kill', 'Warriors', 'warriors', 'seen', 'parts', 'different', 'attitudes', 'motionless', 'stiff', 'Then', 'Perseus', 'son', 'Jupiter', 'came', 'Perseus', 'knew', 'dangerous', 'Medusa', 'eyes', 'well', 'prepared', 'He', 'curved', 'sword', 'present', 'god', 'Mercury', 'He', 'hard', 'shield', 'made', 'bronze', 'plain', 'mirror', 'And', 'also', 'wings', 'flied', 'time', 'put', 'hillsHe', 'arrived', 'flying', 'But', 'instead', 'throwing', 'Medusa', 'remained', 'far', 'worrying', 'looking', 'face', 'seeing', 'eyes', 'circumstances', 'And', 'necessary', 'spy', 'time', 'used', 'bronze', 'shield', 'mirror', 'watch', 'doingMedusa', 'going', 'one', 'place', 'another', 'making', 'efforts', 'scare', 'Perseus', 'She', 'cried', 'horrible', 'things', 'snakes', 'head', 'moving', 'whistling', 'furiously', 'But', 'never', 'got', 'Perseus', 'watched', 'directlyTired', 'fell', 'asleep', 'Her', 'terrible', 'eyes', 'closed', 'little', 'little', 'snakes', 'also', 'fell', 'asleep', 'Then', 'Perseus', 'came', 'without', 'making', 'noise', 'cut', 'head', 'one', 'cutDuring', 'life', 'kept', 'Medusa', 'head', 'used', 'many', 'times', 'turn', 'enemies', 'stone']\n",
      "\n",
      "Stemmed Sentence: ['long', 'long', 'time', 'ago', 'age', 'god', 'hero', 'three', 'horribl', 'sister', 'live', 'region', 'atla', 'known', 'gorgon', 'the', 'terribl', 'three', 'call', 'medusa', 'from', 'medusa', 'head', 'instead', 'hair', 'live', 'snake', 'came', 'and', 'medusa', 'saw', 'face', 'man', 'dog', 'live', 'man', 'dog', 'live', 'immedi', 'turn', 'statu', 'stone', 'dure', 'year', 'lot', 'brave', 'well', 'arm', 'hero', 'come', 'region', 'atla', 'kill', 'medusa', 'none', 'could', 'kill', 'warrior', 'warrior', 'seen', 'part', 'differ', 'attitud', 'motionless', 'stiff', 'then', 'perseu', 'son', 'jupit', 'came', 'perseu', 'knew', 'danger', 'medusa', 'eye', 'well', 'prepar', 'he', 'curv', 'sword', 'present', 'god', 'mercuri', 'he', 'hard', 'shield', 'made', 'bronz', 'plain', 'mirror', 'and', 'also', 'wing', 'fli', 'time', 'put', 'hillsh', 'arriv', 'fli', 'but', 'instead', 'throw', 'medusa', 'remain', 'far', 'worri', 'look', 'face', 'see', 'eye', 'circumst', 'and', 'necessari', 'spi', 'time', 'use', 'bronz', 'shield', 'mirror', 'watch', 'doingmedusa', 'go', 'one', 'place', 'anoth', 'make', 'effort', 'scare', 'perseu', 'she', 'cri', 'horribl', 'thing', 'snake', 'head', 'move', 'whistl', 'furious', 'but', 'never', 'got', 'perseu', 'watch', 'directlytir', 'fell', 'asleep', 'her', 'terribl', 'eye', 'close', 'littl', 'littl', 'snake', 'also', 'fell', 'asleep', 'then', 'perseu', 'came', 'without', 'make', 'nois', 'cut', 'head', 'one', 'cutdur', 'life', 'kept', 'medusa', 'head', 'use', 'mani', 'time', 'turn', 'enemi', 'stone']\n"
     ]
    }
   ],
   "source": [
    "from nltk.stem import PorterStemmer\n",
    "\n",
    "ps = PorterStemmer()\n",
    "\n",
    "stemmed_words=[]\n",
    "for w in filtered_text:\n",
    "    stemmed_words.append(ps.stem(w))\n",
    "\n",
    "print(\"Filtered Sentence:\",filtered_text)\n",
    "print('')\n",
    "print(\"Stemmed Sentence:\",stemmed_words)"
   ]
  },
  {
   "cell_type": "code",
   "execution_count": 33,
   "metadata": {},
   "outputs": [
    {
     "name": "stdout",
     "output_type": "stream",
     "text": [
      "<FreqDist with 117 samples and 176 outcomes>\n"
     ]
    }
   ],
   "source": [
    "fdist = FreqDist(stemmed_words)\n",
    "print(fdist)"
   ]
  },
  {
   "cell_type": "code",
   "execution_count": 34,
   "metadata": {},
   "outputs": [
    {
     "data": {
      "text/plain": [
       "[('medusa', 7),\n",
       " ('perseu', 5),\n",
       " ('time', 4),\n",
       " ('live', 4),\n",
       " ('head', 4),\n",
       " ('snake', 3)]"
      ]
     },
     "execution_count": 34,
     "metadata": {},
     "output_type": "execute_result"
    }
   ],
   "source": [
    "fdist.most_common(6)"
   ]
  },
  {
   "cell_type": "code",
   "execution_count": 35,
   "metadata": {},
   "outputs": [
    {
     "data": {
      "image/png": "[encoded data removed]",
      "text/plain": [
       "<Figure size 640x480 with 1 Axes>"
      ]
     },
     "metadata": {},
     "output_type": "display_data"
    },
    {
     "data": {
      "application/javascript": "\n        if (window._pyforest_update_imports_cell) { window._pyforest_update_imports_cell('import matplotlib.pyplot as plt'); }\n    ",
      "text/plain": [
       "<IPython.core.display.Javascript object>"
      ]
     },
     "metadata": {},
     "output_type": "display_data"
    }
   ],
   "source": [
    "fdist.plot(30,cumulative=False)\n",
    "plt.show()"
   ]
  },
  {
   "cell_type": "code",
   "execution_count": 36,
   "metadata": {},
   "outputs": [
    {
     "data": {
      "text/plain": [
       "['long',\n",
       " 'long',\n",
       " 'time',\n",
       " 'ago',\n",
       " 'age',\n",
       " 'god',\n",
       " 'hero',\n",
       " 'three',\n",
       " 'horribl',\n",
       " 'sister',\n",
       " 'live',\n",
       " 'region',\n",
       " 'atla',\n",
       " 'known',\n",
       " 'gorgon',\n",
       " 'the',\n",
       " 'terribl',\n",
       " 'three',\n",
       " 'call',\n",
       " 'medusa',\n",
       " 'from',\n",
       " 'medusa',\n",
       " 'head',\n",
       " 'instead',\n",
       " 'hair',\n",
       " 'live',\n",
       " 'snake',\n",
       " 'came',\n",
       " 'and',\n",
       " 'medusa',\n",
       " 'saw',\n",
       " 'face',\n",
       " 'man',\n",
       " 'dog',\n",
       " 'live',\n",
       " 'man',\n",
       " 'dog',\n",
       " 'live',\n",
       " 'immedi',\n",
       " 'turn',\n",
       " 'statu',\n",
       " 'stone',\n",
       " 'dure',\n",
       " 'year',\n",
       " 'lot',\n",
       " 'brave',\n",
       " 'well',\n",
       " 'arm',\n",
       " 'hero',\n",
       " 'come',\n",
       " 'region',\n",
       " 'atla',\n",
       " 'kill',\n",
       " 'medusa',\n",
       " 'none',\n",
       " 'could',\n",
       " 'kill',\n",
       " 'warrior',\n",
       " 'warrior',\n",
       " 'seen',\n",
       " 'part',\n",
       " 'differ',\n",
       " 'attitud',\n",
       " 'motionless',\n",
       " 'stiff',\n",
       " 'then',\n",
       " 'perseu',\n",
       " 'son',\n",
       " 'jupit',\n",
       " 'came',\n",
       " 'perseu',\n",
       " 'knew',\n",
       " 'danger',\n",
       " 'medusa',\n",
       " 'eye',\n",
       " 'well',\n",
       " 'prepar',\n",
       " 'he',\n",
       " 'curv',\n",
       " 'sword',\n",
       " 'present',\n",
       " 'god',\n",
       " 'mercuri',\n",
       " 'he',\n",
       " 'hard',\n",
       " 'shield',\n",
       " 'made',\n",
       " 'bronz',\n",
       " 'plain',\n",
       " 'mirror',\n",
       " 'and',\n",
       " 'also',\n",
       " 'wing',\n",
       " 'fli',\n",
       " 'time',\n",
       " 'put',\n",
       " 'hillsh',\n",
       " 'arriv',\n",
       " 'fli',\n",
       " 'but',\n",
       " 'instead',\n",
       " 'throw',\n",
       " 'medusa',\n",
       " 'remain',\n",
       " 'far',\n",
       " 'worri',\n",
       " 'look',\n",
       " 'face',\n",
       " 'see',\n",
       " 'eye',\n",
       " 'circumst',\n",
       " 'and',\n",
       " 'necessari',\n",
       " 'spi',\n",
       " 'time',\n",
       " 'use',\n",
       " 'bronz',\n",
       " 'shield',\n",
       " 'mirror',\n",
       " 'watch',\n",
       " 'doingmedusa',\n",
       " 'go',\n",
       " 'one',\n",
       " 'place',\n",
       " 'anoth',\n",
       " 'make',\n",
       " 'effort',\n",
       " 'scare',\n",
       " 'perseu',\n",
       " 'she',\n",
       " 'cri',\n",
       " 'horribl',\n",
       " 'thing',\n",
       " 'snake',\n",
       " 'head',\n",
       " 'move',\n",
       " 'whistl',\n",
       " 'furious',\n",
       " 'but',\n",
       " 'never',\n",
       " 'got',\n",
       " 'perseu',\n",
       " 'watch',\n",
       " 'directlytir',\n",
       " 'fell',\n",
       " 'asleep',\n",
       " 'her',\n",
       " 'terribl',\n",
       " 'eye',\n",
       " 'close',\n",
       " 'littl',\n",
       " 'littl',\n",
       " 'snake',\n",
       " 'also',\n",
       " 'fell',\n",
       " 'asleep',\n",
       " 'then',\n",
       " 'perseu',\n",
       " 'came',\n",
       " 'without',\n",
       " 'make',\n",
       " 'nois',\n",
       " 'cut',\n",
       " 'head',\n",
       " 'one',\n",
       " 'cutdur',\n",
       " 'life',\n",
       " 'kept',\n",
       " 'medusa',\n",
       " 'head',\n",
       " 'use',\n",
       " 'mani',\n",
       " 'time',\n",
       " 'turn',\n",
       " 'enemi',\n",
       " 'stone']"
      ]
     },
     "execution_count": 36,
     "metadata": {},
     "output_type": "execute_result"
    }
   ],
   "source": [
    "stemmed_words"
   ]
  },
  {
   "attachments": {},
   "cell_type": "markdown",
   "metadata": {},
   "source": [
    "## Exercici 3\n",
    "**Realitza sentiment analysis al teu conjunt de dades.**"
   ]
  },
  {
   "cell_type": "code",
   "execution_count": 37,
   "metadata": {},
   "outputs": [
    {
     "name": "stdout",
     "output_type": "stream",
     "text": [
      "['Long long time ago, in the age of gods and heroes, three horrible sisters lived in the region of Atlas who were known as Gorgons.', 'The most terrible of the three was called Medusa.', 'From Medusas head, instead of hair, living snakes came out.', 'And when Medusa saw the face of a man, dog or living being, the man, the dog and the living being were immediately turned into statues of stone.', 'During years, a lot of brave and well armed heroes had come to the region of Atlas to kill Medusa.', 'None could kill her.', 'Warriors and warriors were seen in all parts in different attitudes, but motionless and stiff.', 'Then Perseus, son of Jupiter, came.', 'Perseus knew how dangerous were Medusa?s eyes but he was very well prepared.', 'He had a curved sword a present from god Mercury.', 'He had a very hard shield made out of bronze and as plain as a mirror.', 'And he had also wings which flied each time that he put them in his hills.He arrived flying.', 'But instead of throwing himself against Medusa, he remained far only worrying about not looking her to the face, not seeing her eyes under no circumstances.', 'And as it was necessary to spy her all the time, he used the bronze shield as a mirror to watch all that she was doing.Medusa was going from one place to another, making efforts to scare Perseus.', 'She cried horrible things and the snakes of her head where moving and whistling furiously.', 'But she never got that Perseus watched her directly.Tired, she fell asleep.', 'Her terrible eyes closed and little by little, her snakes also fell asleep.', 'Then Perseus came without making noise and cut her head off with just one cut.During all his life, he kept Medusa?s head which he used many times to turn his enemies into stone.']\n"
     ]
    }
   ],
   "source": [
    "from nltk.tokenize import sent_tokenize\n",
    "# tokenizamos nuestro texto en frases\n",
    "tokenized_sent=sent_tokenize(text)\n",
    "print(tokenized_sent)"
   ]
  },
  {
   "cell_type": "code",
   "execution_count": 38,
   "metadata": {},
   "outputs": [],
   "source": [
    "from nltk.sentiment.vader import SentimentIntensityAnalyzer"
   ]
  },
  {
   "cell_type": "code",
   "execution_count": 40,
   "metadata": {},
   "outputs": [
    {
     "name": "stderr",
     "output_type": "stream",
     "text": [
      "[nltk_data] Downloading package vader_lexicon to\n",
      "[nltk_data]     C:\\Users\\TAIDA\\AppData\\Roaming\\nltk_data...\n"
     ]
    },
    {
     "data": {
      "text/plain": [
       "True"
      ]
     },
     "execution_count": 40,
     "metadata": {},
     "output_type": "execute_result"
    }
   ],
   "source": [
    " import nltk\n",
    "nltk.download('vader_lexicon')"
   ]
  },
  {
   "cell_type": "code",
   "execution_count": 41,
   "metadata": {},
   "outputs": [
    {
     "name": "stdout",
     "output_type": "stream",
     "text": [
      "Long long time ago, in the age of gods and heroes, three horrible sisters lived in the region of Atlas who were known as Gorgons.\n",
      "compound: -0.0516, \n",
      "neg: 0.117, \n",
      "neu: 0.772, \n",
      "pos: 0.111, \n",
      "\n",
      "The most terrible of the three was called Medusa.\n",
      "compound: -0.5256, \n",
      "neg: 0.298, \n",
      "neu: 0.702, \n",
      "pos: 0.0, \n",
      "\n",
      "From Medusas head, instead of hair, living snakes came out.\n",
      "compound: 0.0, \n",
      "neg: 0.0, \n",
      "neu: 1.0, \n",
      "pos: 0.0, \n",
      "\n",
      "And when Medusa saw the face of a man, dog or living being, the man, the dog and the living being were immediately turned into statues of stone.\n",
      "compound: 0.0, \n",
      "neg: 0.0, \n",
      "neu: 1.0, \n",
      "pos: 0.0, \n",
      "\n",
      "During years, a lot of brave and well armed heroes had come to the region of Atlas to kill Medusa.\n",
      "compound: 0.4767, \n",
      "neg: 0.165, \n",
      "neu: 0.526, \n",
      "pos: 0.309, \n",
      "\n",
      "None could kill her.\n",
      "compound: 0.5773, \n",
      "neg: 0.0, \n",
      "neu: 0.445, \n",
      "pos: 0.555, \n",
      "\n",
      "Warriors and warriors were seen in all parts in different attitudes, but motionless and stiff.\n",
      "compound: 0.0, \n",
      "neg: 0.0, \n",
      "neu: 1.0, \n",
      "pos: 0.0, \n",
      "\n",
      "Then Perseus, son of Jupiter, came.\n",
      "compound: 0.0, \n",
      "neg: 0.0, \n",
      "neu: 1.0, \n",
      "pos: 0.0, \n",
      "\n",
      "Perseus knew how dangerous were Medusa?s eyes but he was very well prepared.\n",
      "compound: 0.5868, \n",
      "neg: 0.114, \n",
      "neu: 0.558, \n",
      "pos: 0.327, \n",
      "\n",
      "He had a curved sword a present from god Mercury.\n",
      "compound: 0.2732, \n",
      "neg: 0.0, \n",
      "neu: 0.769, \n",
      "pos: 0.231, \n",
      "\n",
      "He had a very hard shield made out of bronze and as plain as a mirror.\n",
      "compound: -0.1761, \n",
      "neg: 0.115, \n",
      "neu: 0.885, \n",
      "pos: 0.0, \n",
      "\n",
      "And he had also wings which flied each time that he put them in his hills.He arrived flying.\n",
      "compound: 0.0, \n",
      "neg: 0.0, \n",
      "neu: 1.0, \n",
      "pos: 0.0, \n",
      "\n",
      "But instead of throwing himself against Medusa, he remained far only worrying about not looking her to the face, not seeing her eyes under no circumstances.\n",
      "compound: -0.7096, \n",
      "neg: 0.197, \n",
      "neu: 0.803, \n",
      "pos: 0.0, \n",
      "\n",
      "And as it was necessary to spy her all the time, he used the bronze shield as a mirror to watch all that she was doing.Medusa was going from one place to another, making efforts to scare Perseus.\n",
      "compound: -0.4939, \n",
      "neg: 0.082, \n",
      "neu: 0.918, \n",
      "pos: 0.0, \n",
      "\n",
      "She cried horrible things and the snakes of her head where moving and whistling furiously.\n",
      "compound: -0.8402, \n",
      "neg: 0.429, \n",
      "neu: 0.571, \n",
      "pos: 0.0, \n",
      "\n",
      "But she never got that Perseus watched her directly.Tired, she fell asleep.\n",
      "compound: 0.0, \n",
      "neg: 0.0, \n",
      "neu: 1.0, \n",
      "pos: 0.0, \n",
      "\n",
      "Her terrible eyes closed and little by little, her snakes also fell asleep.\n",
      "compound: -0.4767, \n",
      "neg: 0.205, \n",
      "neu: 0.795, \n",
      "pos: 0.0, \n",
      "\n",
      "Then Perseus came without making noise and cut her head off with just one cut.During all his life, he kept Medusa?s head which he used many times to turn his enemies into stone.\n",
      "compound: -0.6486, \n",
      "neg: 0.146, \n",
      "neu: 0.854, \n",
      "pos: 0.0, \n",
      "\n"
     ]
    }
   ],
   "source": [
    "for sentence in tokenized_sent:\n",
    "    sid = SentimentIntensityAnalyzer()\n",
    "    print(sentence)\n",
    "    ss = sid.polarity_scores(sentence)\n",
    "    for k in sorted(ss):\n",
    "        print('{0}: {1}, '.format(k, ss[k]), end='')\n",
    "        print()\n",
    "    print()    "
   ]
  },
  {
   "cell_type": "code",
   "execution_count": 42,
   "metadata": {},
   "outputs": [
    {
     "data": {
      "text/html": [
       "<div>\n",
       "<style scoped>\n",
       "    .dataframe tbody tr th:only-of-type {\n",
       "        vertical-align: middle;\n",
       "    }\n",
       "\n",
       "    .dataframe tbody tr th {\n",
       "        vertical-align: top;\n",
       "    }\n",
       "\n",
       "    .dataframe thead th {\n",
       "        text-align: right;\n",
       "    }\n",
       "</style>\n",
       "<table border=\"1\" class=\"dataframe\">\n",
       "  <thead>\n",
       "    <tr style=\"text-align: right;\">\n",
       "      <th></th>\n",
       "      <th>token</th>\n",
       "      <th>neg</th>\n",
       "      <th>neu</th>\n",
       "      <th>pos</th>\n",
       "      <th>compound</th>\n",
       "    </tr>\n",
       "  </thead>\n",
       "  <tbody>\n",
       "    <tr>\n",
       "      <th>0</th>\n",
       "      <td>Long long time ago, in the age of gods and her...</td>\n",
       "      <td>0.117</td>\n",
       "      <td>0.772</td>\n",
       "      <td>0.111</td>\n",
       "      <td>-0.0516</td>\n",
       "    </tr>\n",
       "    <tr>\n",
       "      <th>1</th>\n",
       "      <td>The most terrible of the three was called Medusa.</td>\n",
       "      <td>0.298</td>\n",
       "      <td>0.702</td>\n",
       "      <td>0.000</td>\n",
       "      <td>-0.5256</td>\n",
       "    </tr>\n",
       "    <tr>\n",
       "      <th>2</th>\n",
       "      <td>From Medusas head, instead of hair, living sna...</td>\n",
       "      <td>0.000</td>\n",
       "      <td>1.000</td>\n",
       "      <td>0.000</td>\n",
       "      <td>0.0000</td>\n",
       "    </tr>\n",
       "    <tr>\n",
       "      <th>3</th>\n",
       "      <td>And when Medusa saw the face of a man, dog or ...</td>\n",
       "      <td>0.000</td>\n",
       "      <td>1.000</td>\n",
       "      <td>0.000</td>\n",
       "      <td>0.0000</td>\n",
       "    </tr>\n",
       "    <tr>\n",
       "      <th>4</th>\n",
       "      <td>During years, a lot of brave and well armed he...</td>\n",
       "      <td>0.165</td>\n",
       "      <td>0.526</td>\n",
       "      <td>0.309</td>\n",
       "      <td>0.4767</td>\n",
       "    </tr>\n",
       "    <tr>\n",
       "      <th>5</th>\n",
       "      <td>None could kill her.</td>\n",
       "      <td>0.000</td>\n",
       "      <td>0.445</td>\n",
       "      <td>0.555</td>\n",
       "      <td>0.5773</td>\n",
       "    </tr>\n",
       "    <tr>\n",
       "      <th>6</th>\n",
       "      <td>Warriors and warriors were seen in all parts i...</td>\n",
       "      <td>0.000</td>\n",
       "      <td>1.000</td>\n",
       "      <td>0.000</td>\n",
       "      <td>0.0000</td>\n",
       "    </tr>\n",
       "    <tr>\n",
       "      <th>7</th>\n",
       "      <td>Then Perseus, son of Jupiter, came.</td>\n",
       "      <td>0.000</td>\n",
       "      <td>1.000</td>\n",
       "      <td>0.000</td>\n",
       "      <td>0.0000</td>\n",
       "    </tr>\n",
       "    <tr>\n",
       "      <th>8</th>\n",
       "      <td>Perseus knew how dangerous were Medusa?s eyes ...</td>\n",
       "      <td>0.114</td>\n",
       "      <td>0.558</td>\n",
       "      <td>0.327</td>\n",
       "      <td>0.5868</td>\n",
       "    </tr>\n",
       "    <tr>\n",
       "      <th>9</th>\n",
       "      <td>He had a curved sword a present from god Mercury.</td>\n",
       "      <td>0.000</td>\n",
       "      <td>0.769</td>\n",
       "      <td>0.231</td>\n",
       "      <td>0.2732</td>\n",
       "    </tr>\n",
       "    <tr>\n",
       "      <th>10</th>\n",
       "      <td>He had a very hard shield made out of bronze a...</td>\n",
       "      <td>0.115</td>\n",
       "      <td>0.885</td>\n",
       "      <td>0.000</td>\n",
       "      <td>-0.1761</td>\n",
       "    </tr>\n",
       "    <tr>\n",
       "      <th>11</th>\n",
       "      <td>And he had also wings which flied each time th...</td>\n",
       "      <td>0.000</td>\n",
       "      <td>1.000</td>\n",
       "      <td>0.000</td>\n",
       "      <td>0.0000</td>\n",
       "    </tr>\n",
       "    <tr>\n",
       "      <th>12</th>\n",
       "      <td>But instead of throwing himself against Medusa...</td>\n",
       "      <td>0.197</td>\n",
       "      <td>0.803</td>\n",
       "      <td>0.000</td>\n",
       "      <td>-0.7096</td>\n",
       "    </tr>\n",
       "    <tr>\n",
       "      <th>13</th>\n",
       "      <td>And as it was necessary to spy her all the tim...</td>\n",
       "      <td>0.082</td>\n",
       "      <td>0.918</td>\n",
       "      <td>0.000</td>\n",
       "      <td>-0.4939</td>\n",
       "    </tr>\n",
       "    <tr>\n",
       "      <th>14</th>\n",
       "      <td>She cried horrible things and the snakes of he...</td>\n",
       "      <td>0.429</td>\n",
       "      <td>0.571</td>\n",
       "      <td>0.000</td>\n",
       "      <td>-0.8402</td>\n",
       "    </tr>\n",
       "    <tr>\n",
       "      <th>15</th>\n",
       "      <td>But she never got that Perseus watched her dir...</td>\n",
       "      <td>0.000</td>\n",
       "      <td>1.000</td>\n",
       "      <td>0.000</td>\n",
       "      <td>0.0000</td>\n",
       "    </tr>\n",
       "    <tr>\n",
       "      <th>16</th>\n",
       "      <td>Her terrible eyes closed and little by little,...</td>\n",
       "      <td>0.205</td>\n",
       "      <td>0.795</td>\n",
       "      <td>0.000</td>\n",
       "      <td>-0.4767</td>\n",
       "    </tr>\n",
       "    <tr>\n",
       "      <th>17</th>\n",
       "      <td>Then Perseus came without making noise and cut...</td>\n",
       "      <td>0.146</td>\n",
       "      <td>0.854</td>\n",
       "      <td>0.000</td>\n",
       "      <td>-0.6486</td>\n",
       "    </tr>\n",
       "  </tbody>\n",
       "</table>\n",
       "</div>"
      ],
      "text/plain": [
       "                                                token    neg    neu    pos  \\\n",
       "0   Long long time ago, in the age of gods and her...  0.117  0.772  0.111   \n",
       "1   The most terrible of the three was called Medusa.  0.298  0.702  0.000   \n",
       "2   From Medusas head, instead of hair, living sna...  0.000  1.000  0.000   \n",
       "3   And when Medusa saw the face of a man, dog or ...  0.000  1.000  0.000   \n",
       "4   During years, a lot of brave and well armed he...  0.165  0.526  0.309   \n",
       "5                                None could kill her.  0.000  0.445  0.555   \n",
       "6   Warriors and warriors were seen in all parts i...  0.000  1.000  0.000   \n",
       "7                 Then Perseus, son of Jupiter, came.  0.000  1.000  0.000   \n",
       "8   Perseus knew how dangerous were Medusa?s eyes ...  0.114  0.558  0.327   \n",
       "9   He had a curved sword a present from god Mercury.  0.000  0.769  0.231   \n",
       "10  He had a very hard shield made out of bronze a...  0.115  0.885  0.000   \n",
       "11  And he had also wings which flied each time th...  0.000  1.000  0.000   \n",
       "12  But instead of throwing himself against Medusa...  0.197  0.803  0.000   \n",
       "13  And as it was necessary to spy her all the tim...  0.082  0.918  0.000   \n",
       "14  She cried horrible things and the snakes of he...  0.429  0.571  0.000   \n",
       "15  But she never got that Perseus watched her dir...  0.000  1.000  0.000   \n",
       "16  Her terrible eyes closed and little by little,...  0.205  0.795  0.000   \n",
       "17  Then Perseus came without making noise and cut...  0.146  0.854  0.000   \n",
       "\n",
       "    compound  \n",
       "0    -0.0516  \n",
       "1    -0.5256  \n",
       "2     0.0000  \n",
       "3     0.0000  \n",
       "4     0.4767  \n",
       "5     0.5773  \n",
       "6     0.0000  \n",
       "7     0.0000  \n",
       "8     0.5868  \n",
       "9     0.2732  \n",
       "10   -0.1761  \n",
       "11    0.0000  \n",
       "12   -0.7096  \n",
       "13   -0.4939  \n",
       "14   -0.8402  \n",
       "15    0.0000  \n",
       "16   -0.4767  \n",
       "17   -0.6486  "
      ]
     },
     "execution_count": 42,
     "metadata": {},
     "output_type": "execute_result"
    }
   ],
   "source": [
    "# recogemos el resultado en un dataframe para poder traajar con estos datos\n",
    "\n",
    "df_text = pd.DataFrame((tokenized_sent), columns=['token'])\n",
    "df_text['neg'] = df_text['token'].apply(lambda x:sid.polarity_scores(x)['neg'])\n",
    "df_text['neu'] = df_text['token'].apply(lambda x:sid.polarity_scores(x)['neu'])\n",
    "df_text['pos'] = df_text['token'].apply(lambda x:sid.polarity_scores(x)['pos'])\n",
    "df_text['compound'] = df_text['token'].apply(lambda x:sid.polarity_scores(x)['compound'])\n",
    "\n",
    "df_text"
   ]
  }
 ],
 "metadata": {
  "kernelspec": {
   "display_name": "base",
   "language": "python",
   "name": "python3"
  },
  "language_info": {
   "codemirror_mode": {
    "name": "ipython",
    "version": 3
   },
   "file_extension": ".py",
   "mimetype": "text/x-python",
   "name": "python",
   "nbconvert_exporter": "python",
   "pygments_lexer": "ipython3",
   "version": "3.9.13"
  },
  "orig_nbformat": 4
 },
 "nbformat": 4,
 "nbformat_minor": 2
}
